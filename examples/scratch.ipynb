{
 "cells": [],
 "metadata": {
  "kernelspec": {
   "display_name": "Python 3.8.13 ('d2l_env')",
   "language": "python",
   "name": "python3"
  },
  "language_info": {
   "codemirror_mode": {
    "name": "ipython",
    "version": 3
   },
   "file_extension": ".py",
   "mimetype": "text/x-python",
   "name": "python",
   "nbconvert_exporter": "python",
   "pygments_lexer": "ipython3",
   "version": "3.8.13"
  },
  "orig_nbformat": 4,
  "vscode": {
   "interpreter": {
    "hash": "ce995ee053f5cdfd9f31fc05f642b109c747e4ee75d1e1ef15cdc110b46c022f"
   }
  }
 },
 "nbformat": 4,
 "nbformat_minor": 2
}
